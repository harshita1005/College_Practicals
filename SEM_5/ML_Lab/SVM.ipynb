{
 "cells": [
  {
   "cell_type": "markdown",
   "id": "9e7d6395-ab51-4acf-8a7a-b966d683dd7a",
   "metadata": {
    "tags": []
   },
   "source": [
    "# Assignment No 4 - Support Vector Machines\n",
    "\n",
    "Problem Statement :\n",
    "The counselor of the firm is supposed check whether the student will get an admission or not based on his/her GRE score and Academic Score. So to help the counselor to take appropriate decisions build a machine learning model classifier using SVM to predict\n",
    "whether a student will get admission or not. \n",
    "\n",
    "A] Apply Data pre-processing (Label Encoding, Data Transformation....) techniques if necessary.\n",
    "\n",
    "B] Perform data-preparation (Train-Test Split)\n",
    "\n",
    "C] Apply Machine Learning Algorithm\n",
    "\n",
    "D] Evaluate Model"
   ]
  },
  {
   "cell_type": "code",
   "execution_count": 1,
   "id": "54f00c12-8941-4831-a04e-f538c3c28c57",
   "metadata": {},
   "outputs": [],
   "source": [
    "import numpy as np\n",
    "import pandas as pd\n",
    "from sklearn.model_selection import train_test_split\n",
    "from sklearn.svm import SVC\n",
    "import matplotlib.pyplot as plt\n",
    "from sklearn.metrics import confusion_matrix, accuracy_score\n",
    "import seaborn as sns"
   ]
  },
  {
   "cell_type": "code",
   "execution_count": null,
   "id": "6b67fc46-d19c-4afe-863b-1da42eff233c",
   "metadata": {},
   "outputs": [],
   "source": []
  },
  {
   "cell_type": "code",
   "execution_count": 4,
   "id": "068e11f1-3292-4ebd-a729-c609879c08d8",
   "metadata": {},
   "outputs": [
    {
     "data": {
      "text/html": [
       "<div>\n",
       "<style scoped>\n",
       "    .dataframe tbody tr th:only-of-type {\n",
       "        vertical-align: middle;\n",
       "    }\n",
       "\n",
       "    .dataframe tbody tr th {\n",
       "        vertical-align: top;\n",
       "    }\n",
       "\n",
       "    .dataframe thead th {\n",
       "        text-align: right;\n",
       "    }\n",
       "</style>\n",
       "<table border=\"1\" class=\"dataframe\">\n",
       "  <thead>\n",
       "    <tr style=\"text-align: right;\">\n",
       "      <th></th>\n",
       "      <th>Serial No.</th>\n",
       "      <th>GRE Score</th>\n",
       "      <th>TOEFL Score</th>\n",
       "      <th>University Rating</th>\n",
       "      <th>SOP</th>\n",
       "      <th>LOR</th>\n",
       "      <th>CGPA</th>\n",
       "      <th>Research</th>\n",
       "      <th>Chance of Admit</th>\n",
       "    </tr>\n",
       "  </thead>\n",
       "  <tbody>\n",
       "    <tr>\n",
       "      <th>0</th>\n",
       "      <td>1</td>\n",
       "      <td>337</td>\n",
       "      <td>118</td>\n",
       "      <td>4</td>\n",
       "      <td>4.5</td>\n",
       "      <td>4.5</td>\n",
       "      <td>9.65</td>\n",
       "      <td>1</td>\n",
       "      <td>0.92</td>\n",
       "    </tr>\n",
       "    <tr>\n",
       "      <th>1</th>\n",
       "      <td>2</td>\n",
       "      <td>324</td>\n",
       "      <td>107</td>\n",
       "      <td>4</td>\n",
       "      <td>4.0</td>\n",
       "      <td>4.5</td>\n",
       "      <td>8.87</td>\n",
       "      <td>1</td>\n",
       "      <td>0.76</td>\n",
       "    </tr>\n",
       "    <tr>\n",
       "      <th>2</th>\n",
       "      <td>3</td>\n",
       "      <td>316</td>\n",
       "      <td>104</td>\n",
       "      <td>3</td>\n",
       "      <td>3.0</td>\n",
       "      <td>3.5</td>\n",
       "      <td>8.00</td>\n",
       "      <td>1</td>\n",
       "      <td>0.72</td>\n",
       "    </tr>\n",
       "    <tr>\n",
       "      <th>3</th>\n",
       "      <td>4</td>\n",
       "      <td>322</td>\n",
       "      <td>110</td>\n",
       "      <td>3</td>\n",
       "      <td>3.5</td>\n",
       "      <td>2.5</td>\n",
       "      <td>8.67</td>\n",
       "      <td>1</td>\n",
       "      <td>0.80</td>\n",
       "    </tr>\n",
       "    <tr>\n",
       "      <th>4</th>\n",
       "      <td>5</td>\n",
       "      <td>314</td>\n",
       "      <td>103</td>\n",
       "      <td>2</td>\n",
       "      <td>2.0</td>\n",
       "      <td>3.0</td>\n",
       "      <td>8.21</td>\n",
       "      <td>0</td>\n",
       "      <td>0.65</td>\n",
       "    </tr>\n",
       "    <tr>\n",
       "      <th>...</th>\n",
       "      <td>...</td>\n",
       "      <td>...</td>\n",
       "      <td>...</td>\n",
       "      <td>...</td>\n",
       "      <td>...</td>\n",
       "      <td>...</td>\n",
       "      <td>...</td>\n",
       "      <td>...</td>\n",
       "      <td>...</td>\n",
       "    </tr>\n",
       "    <tr>\n",
       "      <th>395</th>\n",
       "      <td>396</td>\n",
       "      <td>324</td>\n",
       "      <td>110</td>\n",
       "      <td>3</td>\n",
       "      <td>3.5</td>\n",
       "      <td>3.5</td>\n",
       "      <td>9.04</td>\n",
       "      <td>1</td>\n",
       "      <td>0.82</td>\n",
       "    </tr>\n",
       "    <tr>\n",
       "      <th>396</th>\n",
       "      <td>397</td>\n",
       "      <td>325</td>\n",
       "      <td>107</td>\n",
       "      <td>3</td>\n",
       "      <td>3.0</td>\n",
       "      <td>3.5</td>\n",
       "      <td>9.11</td>\n",
       "      <td>1</td>\n",
       "      <td>0.84</td>\n",
       "    </tr>\n",
       "    <tr>\n",
       "      <th>397</th>\n",
       "      <td>398</td>\n",
       "      <td>330</td>\n",
       "      <td>116</td>\n",
       "      <td>4</td>\n",
       "      <td>5.0</td>\n",
       "      <td>4.5</td>\n",
       "      <td>9.45</td>\n",
       "      <td>1</td>\n",
       "      <td>0.91</td>\n",
       "    </tr>\n",
       "    <tr>\n",
       "      <th>398</th>\n",
       "      <td>399</td>\n",
       "      <td>312</td>\n",
       "      <td>103</td>\n",
       "      <td>3</td>\n",
       "      <td>3.5</td>\n",
       "      <td>4.0</td>\n",
       "      <td>8.78</td>\n",
       "      <td>0</td>\n",
       "      <td>0.67</td>\n",
       "    </tr>\n",
       "    <tr>\n",
       "      <th>399</th>\n",
       "      <td>400</td>\n",
       "      <td>333</td>\n",
       "      <td>117</td>\n",
       "      <td>4</td>\n",
       "      <td>5.0</td>\n",
       "      <td>4.0</td>\n",
       "      <td>9.66</td>\n",
       "      <td>1</td>\n",
       "      <td>0.95</td>\n",
       "    </tr>\n",
       "  </tbody>\n",
       "</table>\n",
       "<p>400 rows × 9 columns</p>\n",
       "</div>"
      ],
      "text/plain": [
       "     Serial No.  GRE Score  TOEFL Score  University Rating  SOP  LOR  CGPA  \\\n",
       "0             1        337          118                  4  4.5  4.5  9.65   \n",
       "1             2        324          107                  4  4.0  4.5  8.87   \n",
       "2             3        316          104                  3  3.0  3.5  8.00   \n",
       "3             4        322          110                  3  3.5  2.5  8.67   \n",
       "4             5        314          103                  2  2.0  3.0  8.21   \n",
       "..          ...        ...          ...                ...  ...  ...   ...   \n",
       "395         396        324          110                  3  3.5  3.5  9.04   \n",
       "396         397        325          107                  3  3.0  3.5  9.11   \n",
       "397         398        330          116                  4  5.0  4.5  9.45   \n",
       "398         399        312          103                  3  3.5  4.0  8.78   \n",
       "399         400        333          117                  4  5.0  4.0  9.66   \n",
       "\n",
       "     Research  Chance of Admit   \n",
       "0           1              0.92  \n",
       "1           1              0.76  \n",
       "2           1              0.72  \n",
       "3           1              0.80  \n",
       "4           0              0.65  \n",
       "..        ...               ...  \n",
       "395         1              0.82  \n",
       "396         1              0.84  \n",
       "397         1              0.91  \n",
       "398         0              0.67  \n",
       "399         1              0.95  \n",
       "\n",
       "[400 rows x 9 columns]"
      ]
     },
     "execution_count": 4,
     "metadata": {},
     "output_type": "execute_result"
    }
   ],
   "source": [
    "df = pd.read_csv(r\"C:\\Users\\HP\\Desktop\\Admission_Predict.csv\")\n",
    "df"
   ]
  },
  {
   "cell_type": "markdown",
   "id": "ab0cba62-78b7-4fbb-9b52-eb7aee1e07da",
   "metadata": {},
   "source": [
    "# Converting the data in \"Chance of Admit\" column in the form of 1's and 0's"
   ]
  },
  {
   "cell_type": "code",
   "execution_count": 6,
   "id": "7a780f11-d138-4692-ae6d-38878ff73d9f",
   "metadata": {},
   "outputs": [],
   "source": [
    "df['Chance of Admit '] = df['Chance of Admit '].apply(lambda x : 1 if x >= 0.50 else 0)"
   ]
  },
  {
   "cell_type": "markdown",
   "id": "c44d0082-c48a-4ab6-9779-f73bdd1e8ac3",
   "metadata": {},
   "source": [
    "# Declaring dependent and independent variable"
   ]
  },
  {
   "cell_type": "code",
   "execution_count": 8,
   "id": "60f93f8a-a8d1-42fd-89ba-bd9fa20d3097",
   "metadata": {},
   "outputs": [],
   "source": [
    "X = df.drop([\"Serial No.\", \"Chance of Admit \"], axis=1)\n",
    "Y = df[\"Chance of Admit \"]"
   ]
  },
  {
   "cell_type": "markdown",
   "id": "66d9d448-b484-4745-8b74-931891ae213e",
   "metadata": {},
   "source": [
    "# Split the model into Training and testing part"
   ]
  },
  {
   "cell_type": "code",
   "execution_count": 9,
   "id": "b558988f-34a5-407b-9632-116f7c713c32",
   "metadata": {},
   "outputs": [],
   "source": [
    "xTrain, xTest, yTrain, yTest = train_test_split(X, Y, test_size = 0.2, random_state = 20)"
   ]
  },
  {
   "cell_type": "code",
   "execution_count": 10,
   "id": "fa703baf-d61c-4a89-85a9-ef4bca69ed6d",
   "metadata": {},
   "outputs": [
    {
     "name": "stdout",
     "output_type": "stream",
     "text": [
      "     GRE Score  TOEFL Score  University Rating  SOP  LOR  CGPA  Research\n",
      "94         303           99                  3  2.0  2.5  7.66         0\n",
      "91         299           97                  3  5.0  3.5  7.66         0\n",
      "89         316          109                  4  4.5  3.5  8.76         1\n",
      "329        297           96                  2  2.5  1.5  7.89         0\n",
      "129        333          118                  5  5.0  5.0  9.35         1\n",
      "..         ...          ...                ...  ...  ...   ...       ...\n",
      "393        317          104                  2  3.0  3.0  8.76         0\n",
      "218        324          110                  4  3.0  3.5  8.97         1\n",
      "223        308          109                  2  3.0  4.0  8.45         0\n",
      "271        299           96                  2  1.5  2.0  7.86         0\n",
      "355        317          106                  2  2.0  3.5  8.12         0\n",
      "\n",
      "[320 rows x 7 columns]\n",
      "     GRE Score  TOEFL Score  University Rating  SOP  LOR  CGPA  Research\n",
      "10         325          106                  3  3.5  4.0  8.40         1\n",
      "382        324          110                  4  4.5  4.0  9.15         1\n",
      "374        315          105                  2  2.0  2.5  7.65         0\n",
      "196        306          105                  2  3.0  2.5  8.26         0\n",
      "47         339          119                  5  4.5  4.0  9.70         0\n",
      "..         ...          ...                ...  ...  ...   ...       ...\n",
      "336        319          110                  3  3.0  2.5  8.79         0\n",
      "398        312          103                  3  3.5  4.0  8.78         0\n",
      "45         322          110                  5  5.0  4.0  9.10         1\n",
      "373        321          109                  3  3.0  3.0  8.54         1\n",
      "28         295           93                  1  2.0  2.0  7.20         0\n",
      "\n",
      "[80 rows x 7 columns]\n",
      "94     0\n",
      "91     0\n",
      "89     1\n",
      "329    0\n",
      "129    1\n",
      "      ..\n",
      "393    1\n",
      "218    1\n",
      "223    1\n",
      "271    1\n",
      "355    1\n",
      "Name: Chance of Admit , Length: 320, dtype: int64\n",
      "10     1\n",
      "382    1\n",
      "374    0\n",
      "196    1\n",
      "47     1\n",
      "      ..\n",
      "336    1\n",
      "398    1\n",
      "45     1\n",
      "373    1\n",
      "28     0\n",
      "Name: Chance of Admit , Length: 80, dtype: int64\n"
     ]
    }
   ],
   "source": [
    "print(xTrain)\n",
    "print(xTest)\n",
    "print(yTrain)\n",
    "print(yTest)"
   ]
  },
  {
   "cell_type": "markdown",
   "id": "9f61f11e-f24c-4eb6-9d05-47d7f5ac3d8c",
   "metadata": {},
   "source": [
    "# For Linear Kernel"
   ]
  },
  {
   "cell_type": "code",
   "execution_count": 11,
   "id": "89429a20-161d-4220-ac2d-93098ccd98a1",
   "metadata": {},
   "outputs": [],
   "source": [
    "linearKernelClassifier = SVC(kernel='linear')\n",
    "linearKernelClassifier.fit(xTrain, yTrain)\n",
    "yPred1 = linearKernelClassifier.predict(xTest)"
   ]
  },
  {
   "cell_type": "code",
   "execution_count": null,
   "id": "fbd60ad2-868e-4f88-9b8c-28db5ba42222",
   "metadata": {},
   "outputs": [],
   "source": []
  },
  {
   "cell_type": "markdown",
   "id": "1fbac987-5275-4f87-a543-43d4abd3554d",
   "metadata": {},
   "source": [
    "# For Polynomial Kernel"
   ]
  },
  {
   "cell_type": "code",
   "execution_count": 12,
   "id": "d7f362f2-70f9-4195-8599-8bc394ccc20e",
   "metadata": {},
   "outputs": [],
   "source": [
    "polyKernelClassifier = SVC(kernel='poly')\n",
    "polyKernelClassifier.fit(xTrain, yTrain)\n",
    "yPred2 = polyKernelClassifier.predict(xTest)"
   ]
  },
  {
   "cell_type": "code",
   "execution_count": null,
   "id": "6e8be3cd-3d33-417e-a2f9-bbc9f3f635f0",
   "metadata": {},
   "outputs": [],
   "source": []
  },
  {
   "cell_type": "markdown",
   "id": "13fca6fe-29bf-40a5-9722-cb9b95f56427",
   "metadata": {},
   "source": [
    "# For RBF Kernel"
   ]
  },
  {
   "cell_type": "code",
   "execution_count": 13,
   "id": "27251b67-b711-443a-b61e-608891857b3b",
   "metadata": {},
   "outputs": [],
   "source": [
    "rbfKernelClassifier = SVC(kernel='rbf')\n",
    "rbfKernelClassifier.fit(xTrain, yTrain)\n",
    "yPred3 = rbfKernelClassifier.predict(xTest)"
   ]
  },
  {
   "cell_type": "code",
   "execution_count": null,
   "id": "2e6dd108-d3d3-442d-8ecd-8fa8742d01a6",
   "metadata": {},
   "outputs": [],
   "source": []
  },
  {
   "cell_type": "markdown",
   "id": "ee891039-769f-43b1-a7a9-fee5d1eaa897",
   "metadata": {},
   "source": [
    "# For Sigmoid kernel"
   ]
  },
  {
   "cell_type": "code",
   "execution_count": 14,
   "id": "67a7caa2-7108-4caf-b087-e9bedd3d6f44",
   "metadata": {},
   "outputs": [],
   "source": [
    "sigmoidKernelClassifier = SVC(kernel='sigmoid')\n",
    "sigmoidKernelClassifier.fit(xTrain, yTrain)\n",
    "yPred4 = sigmoidKernelClassifier.predict(xTest)"
   ]
  },
  {
   "cell_type": "code",
   "execution_count": null,
   "id": "3cb2e72d-0761-433f-83a6-e1b72c33c1c3",
   "metadata": {},
   "outputs": [],
   "source": []
  },
  {
   "cell_type": "code",
   "execution_count": 15,
   "id": "09dbc52f-394d-43ee-8669-7836985d2523",
   "metadata": {},
   "outputs": [
    {
     "data": {
      "text/html": [
       "<div>\n",
       "<style scoped>\n",
       "    .dataframe tbody tr th:only-of-type {\n",
       "        vertical-align: middle;\n",
       "    }\n",
       "\n",
       "    .dataframe tbody tr th {\n",
       "        vertical-align: top;\n",
       "    }\n",
       "\n",
       "    .dataframe thead th {\n",
       "        text-align: right;\n",
       "    }\n",
       "</style>\n",
       "<table border=\"1\" class=\"dataframe\">\n",
       "  <thead>\n",
       "    <tr style=\"text-align: right;\">\n",
       "      <th></th>\n",
       "      <th>Actual</th>\n",
       "      <th>Linear Kernel</th>\n",
       "      <th>Polynomial Kernel</th>\n",
       "      <th>RBF Kernel</th>\n",
       "      <th>Sigmoid Kernel</th>\n",
       "    </tr>\n",
       "  </thead>\n",
       "  <tbody>\n",
       "    <tr>\n",
       "      <th>10</th>\n",
       "      <td>1</td>\n",
       "      <td>1</td>\n",
       "      <td>1</td>\n",
       "      <td>1</td>\n",
       "      <td>1</td>\n",
       "    </tr>\n",
       "    <tr>\n",
       "      <th>382</th>\n",
       "      <td>1</td>\n",
       "      <td>1</td>\n",
       "      <td>1</td>\n",
       "      <td>1</td>\n",
       "      <td>1</td>\n",
       "    </tr>\n",
       "    <tr>\n",
       "      <th>374</th>\n",
       "      <td>0</td>\n",
       "      <td>1</td>\n",
       "      <td>1</td>\n",
       "      <td>1</td>\n",
       "      <td>1</td>\n",
       "    </tr>\n",
       "    <tr>\n",
       "      <th>196</th>\n",
       "      <td>1</td>\n",
       "      <td>1</td>\n",
       "      <td>1</td>\n",
       "      <td>1</td>\n",
       "      <td>1</td>\n",
       "    </tr>\n",
       "    <tr>\n",
       "      <th>47</th>\n",
       "      <td>1</td>\n",
       "      <td>1</td>\n",
       "      <td>1</td>\n",
       "      <td>1</td>\n",
       "      <td>1</td>\n",
       "    </tr>\n",
       "    <tr>\n",
       "      <th>237</th>\n",
       "      <td>1</td>\n",
       "      <td>1</td>\n",
       "      <td>1</td>\n",
       "      <td>1</td>\n",
       "      <td>1</td>\n",
       "    </tr>\n",
       "    <tr>\n",
       "      <th>175</th>\n",
       "      <td>1</td>\n",
       "      <td>1</td>\n",
       "      <td>1</td>\n",
       "      <td>1</td>\n",
       "      <td>1</td>\n",
       "    </tr>\n",
       "    <tr>\n",
       "      <th>347</th>\n",
       "      <td>0</td>\n",
       "      <td>0</td>\n",
       "      <td>1</td>\n",
       "      <td>1</td>\n",
       "      <td>1</td>\n",
       "    </tr>\n",
       "    <tr>\n",
       "      <th>115</th>\n",
       "      <td>1</td>\n",
       "      <td>1</td>\n",
       "      <td>1</td>\n",
       "      <td>1</td>\n",
       "      <td>1</td>\n",
       "    </tr>\n",
       "    <tr>\n",
       "      <th>308</th>\n",
       "      <td>1</td>\n",
       "      <td>1</td>\n",
       "      <td>1</td>\n",
       "      <td>1</td>\n",
       "      <td>1</td>\n",
       "    </tr>\n",
       "    <tr>\n",
       "      <th>235</th>\n",
       "      <td>1</td>\n",
       "      <td>1</td>\n",
       "      <td>1</td>\n",
       "      <td>1</td>\n",
       "      <td>1</td>\n",
       "    </tr>\n",
       "    <tr>\n",
       "      <th>13</th>\n",
       "      <td>1</td>\n",
       "      <td>1</td>\n",
       "      <td>1</td>\n",
       "      <td>1</td>\n",
       "      <td>1</td>\n",
       "    </tr>\n",
       "    <tr>\n",
       "      <th>211</th>\n",
       "      <td>1</td>\n",
       "      <td>1</td>\n",
       "      <td>1</td>\n",
       "      <td>1</td>\n",
       "      <td>1</td>\n",
       "    </tr>\n",
       "    <tr>\n",
       "      <th>205</th>\n",
       "      <td>1</td>\n",
       "      <td>1</td>\n",
       "      <td>1</td>\n",
       "      <td>1</td>\n",
       "      <td>1</td>\n",
       "    </tr>\n",
       "    <tr>\n",
       "      <th>102</th>\n",
       "      <td>1</td>\n",
       "      <td>1</td>\n",
       "      <td>1</td>\n",
       "      <td>1</td>\n",
       "      <td>1</td>\n",
       "    </tr>\n",
       "    <tr>\n",
       "      <th>192</th>\n",
       "      <td>1</td>\n",
       "      <td>1</td>\n",
       "      <td>1</td>\n",
       "      <td>1</td>\n",
       "      <td>1</td>\n",
       "    </tr>\n",
       "    <tr>\n",
       "      <th>34</th>\n",
       "      <td>1</td>\n",
       "      <td>1</td>\n",
       "      <td>1</td>\n",
       "      <td>1</td>\n",
       "      <td>1</td>\n",
       "    </tr>\n",
       "    <tr>\n",
       "      <th>17</th>\n",
       "      <td>1</td>\n",
       "      <td>1</td>\n",
       "      <td>1</td>\n",
       "      <td>1</td>\n",
       "      <td>1</td>\n",
       "    </tr>\n",
       "    <tr>\n",
       "      <th>56</th>\n",
       "      <td>1</td>\n",
       "      <td>1</td>\n",
       "      <td>1</td>\n",
       "      <td>1</td>\n",
       "      <td>1</td>\n",
       "    </tr>\n",
       "    <tr>\n",
       "      <th>247</th>\n",
       "      <td>1</td>\n",
       "      <td>1</td>\n",
       "      <td>1</td>\n",
       "      <td>1</td>\n",
       "      <td>1</td>\n",
       "    </tr>\n",
       "  </tbody>\n",
       "</table>\n",
       "</div>"
      ],
      "text/plain": [
       "     Actual  Linear Kernel  Polynomial Kernel  RBF Kernel  Sigmoid Kernel\n",
       "10        1              1                  1           1               1\n",
       "382       1              1                  1           1               1\n",
       "374       0              1                  1           1               1\n",
       "196       1              1                  1           1               1\n",
       "47        1              1                  1           1               1\n",
       "237       1              1                  1           1               1\n",
       "175       1              1                  1           1               1\n",
       "347       0              0                  1           1               1\n",
       "115       1              1                  1           1               1\n",
       "308       1              1                  1           1               1\n",
       "235       1              1                  1           1               1\n",
       "13        1              1                  1           1               1\n",
       "211       1              1                  1           1               1\n",
       "205       1              1                  1           1               1\n",
       "102       1              1                  1           1               1\n",
       "192       1              1                  1           1               1\n",
       "34        1              1                  1           1               1\n",
       "17        1              1                  1           1               1\n",
       "56        1              1                  1           1               1\n",
       "247       1              1                  1           1               1"
      ]
     },
     "execution_count": 15,
     "metadata": {},
     "output_type": "execute_result"
    }
   ],
   "source": [
    "final = pd.DataFrame({'Actual': yTest, 'Linear Kernel': yPred1, 'Polynomial Kernel': yPred2, 'RBF Kernel': yPred3, 'Sigmoid Kernel': yPred4})\n",
    "final.head(20)"
   ]
  },
  {
   "cell_type": "markdown",
   "id": "0ff63c9d-c94d-4ea6-b025-48d9247b07a8",
   "metadata": {},
   "source": [
    "# Calculating accuracy score "
   ]
  },
  {
   "cell_type": "code",
   "execution_count": 17,
   "id": "fcea46eb-a633-44c6-b436-a91ebdec4bf4",
   "metadata": {},
   "outputs": [
    {
     "data": {
      "text/html": [
       "<div>\n",
       "<style scoped>\n",
       "    .dataframe tbody tr th:only-of-type {\n",
       "        vertical-align: middle;\n",
       "    }\n",
       "\n",
       "    .dataframe tbody tr th {\n",
       "        vertical-align: top;\n",
       "    }\n",
       "\n",
       "    .dataframe thead th {\n",
       "        text-align: right;\n",
       "    }\n",
       "</style>\n",
       "<table border=\"1\" class=\"dataframe\">\n",
       "  <thead>\n",
       "    <tr style=\"text-align: right;\">\n",
       "      <th></th>\n",
       "      <th>Linear Kernel</th>\n",
       "      <th>Polynomial Kernel</th>\n",
       "      <th>RBF Kernel</th>\n",
       "      <th>Sigmoid Kernel</th>\n",
       "    </tr>\n",
       "  </thead>\n",
       "  <tbody>\n",
       "    <tr>\n",
       "      <th>0</th>\n",
       "      <td>0.925</td>\n",
       "      <td>0.8875</td>\n",
       "      <td>0.8875</td>\n",
       "      <td>0.8875</td>\n",
       "    </tr>\n",
       "  </tbody>\n",
       "</table>\n",
       "</div>"
      ],
      "text/plain": [
       "   Linear Kernel  Polynomial Kernel  RBF Kernel  Sigmoid Kernel\n",
       "0          0.925             0.8875      0.8875          0.8875"
      ]
     },
     "execution_count": 17,
     "metadata": {},
     "output_type": "execute_result"
    }
   ],
   "source": [
    "accuracyScore = pd.DataFrame({'Linear Kernel': accuracy_score(yTest, yPred1), 'Polynomial Kernel': accuracy_score(yTest, yPred2), 'RBF Kernel': accuracy_score(yTest, yPred3), 'Sigmoid Kernel': accuracy_score(yTest, yPred4)}, index = [0])\n",
    "accuracyScore"
   ]
  },
  {
   "cell_type": "code",
   "execution_count": null,
   "id": "28e12b51-f313-4ba0-a9d6-eae97e86b50e",
   "metadata": {},
   "outputs": [],
   "source": []
  },
  {
   "cell_type": "code",
   "execution_count": null,
   "id": "86610310-576e-4ab2-9756-a56957effbdb",
   "metadata": {},
   "outputs": [],
   "source": []
  },
  {
   "cell_type": "markdown",
   "id": "59aeeaa6-6e24-4098-bd32-8186eec26b02",
   "metadata": {},
   "source": [
    "# Plotting and visualizing the model"
   ]
  },
  {
   "cell_type": "code",
   "execution_count": 18,
   "id": "1d80b2b6-3ef7-48f4-a3dc-7a3021072ca4",
   "metadata": {},
   "outputs": [
    {
     "data": {
      "text/plain": [
       "Text(0, 0.5, 'Accuracy Score')"
      ]
     },
     "execution_count": 18,
     "metadata": {},
     "output_type": "execute_result"
    },
    {
     "data": {
      "image/png": "[encoded data removed]",
      "text/plain": [
       "<Figure size 720x360 with 1 Axes>"
      ]
     },
     "metadata": {
      "needs_background": "light"
     },
     "output_type": "display_data"
    }
   ],
   "source": [
    "accuracyScore.plot(kind='bar', figsize=(10, 5))\n",
    "plt.title(\"Kernel Accuracy Score\")\n",
    "plt.xlabel(\"Kernel\")\n",
    "plt.ylabel(\"Accuracy Score\")"
   ]
  },
  {
   "cell_type": "code",
   "execution_count": 19,
   "id": "a87bf826-26ff-4799-ac74-5ff494ebdf89",
   "metadata": {},
   "outputs": [
    {
     "data": {
      "text/plain": [
       "<AxesSubplot:>"
      ]
     },
     "execution_count": 19,
     "metadata": {},
     "output_type": "execute_result"
    },
    {
     "data": {
      "image/png": "[encoded data removed]",
      "text/plain": [
       "<Figure size 432x288 with 2 Axes>"
      ]
     },
     "metadata": {
      "needs_background": "light"
     },
     "output_type": "display_data"
    }
   ],
   "source": [
    "matrix = confusion_matrix(yTest, yPred1)\n",
    "matrix\n",
    "sns.heatmap(matrix, annot=True)"
   ]
  },
  {
   "cell_type": "code",
   "execution_count": null,
   "id": "6cba5f1a-0152-49fe-b9ed-068e84416469",
   "metadata": {},
   "outputs": [],
   "source": []
  }
 ],
 "metadata": {
  "kernelspec": {
   "display_name": "Python 3 (ipykernel)",
   "language": "python",
   "name": "python3"
  },
  "language_info": {
   "codemirror_mode": {
    "name": "ipython",
    "version": 3
   },
   "file_extension": ".py",
   "mimetype": "text/x-python",
   "name": "python",
   "nbconvert_exporter": "python",
   "pygments_lexer": "ipython3",
   "version": "3.9.5"
  }
 },
 "nbformat": 4,
 "nbformat_minor": 5
}
